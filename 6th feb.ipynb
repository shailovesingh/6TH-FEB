{
 "cells": [
  {
   "cell_type": "code",
   "execution_count": 3,
   "id": "f22a37e4-b90d-4d5d-b793-2f0e070dbcce",
   "metadata": {},
   "outputs": [],
   "source": [
    "list1 = [1,2,3,4, [44,55,66, True], False, (34,56,78,89,34), {1,2,3,3,2,1}, {1:34, \"key2\": [55, 67, 78, 89], 4: (45,\n",
    "22, 61, 34)}, [56, 'data science'], 'Machine Learning']"
   ]
  },
  {
   "cell_type": "code",
   "execution_count": 4,
   "id": "c96776b9-ec30-414b-a541-ab1fe0a39821",
   "metadata": {},
   "outputs": [],
   "source": [
    "def func(list1):\n",
    "    \n",
    "    lst = []\n",
    "    lst2 = []\n",
    "    lst3 = []\n",
    "    lst4 = []\n",
    "    flat_list = []\n",
    "    \n",
    "    for i in list1:\n",
    "        if type(i) == int:\n",
    "            lst.append(i)\n",
    "        if type(i) == list or type(i)== tuple or type (i) == set:\n",
    "            for j in i:\n",
    "                lst.append(j)\n",
    "    a = lst\n",
    "    \n",
    "    for k in lst:\n",
    "        if type(k) != str:\n",
    "            lst2.append(k)\n",
    "    \n",
    "    b = lst2\n",
    "    \n",
    "    for l in list1:\n",
    "        if type(l) == dict:\n",
    "            for key , val in l.items():\n",
    "                if type(key) == int:\n",
    "                    lst3.append(key)\n",
    "                    \n",
    "        if type(l) == dict:\n",
    "            for key , val in l.items():\n",
    "                if type(val) == int:\n",
    "                    lst4.append(val)\n",
    "                if type(val) == list or type(val) == tuple:\n",
    "                    for m in val:\n",
    "                        lst4.append(m)\n",
    "    c = lst3\n",
    "    d = lst4\n",
    "    \n",
    "    flat_list = b+c+d\n",
    "    print(\"Flat list is\", flat_list)\n",
    "    \n",
    "    from functools import reduce\n",
    "    product = reduce(lambda x,y : x*y , flat_list)\n",
    "    print(\"product of the flat list is:\",product)\n",
    "    \n",
    "            "
   ]
  },
  {
   "cell_type": "code",
   "execution_count": 5,
   "id": "2cbd1f8c-0f69-41c6-97a1-799c4531bf47",
   "metadata": {},
   "outputs": [
    {
     "name": "stdout",
     "output_type": "stream",
     "text": [
      "Flat list is [1, 2, 3, 4, 44, 55, 66, True, 34, 56, 78, 89, 34, 1, 2, 3, 56, 1, 4, 34, 55, 67, 78, 89, 45, 22, 61, 34]\n",
      "product of the flat list is: 4134711838987085478833841242112000\n"
     ]
    }
   ],
   "source": [
    "func(list1)"
   ]
  },
  {
   "cell_type": "markdown",
   "id": "e160753a-cd9a-4d60-8d9e-cf1bcda81773",
   "metadata": {},
   "source": [
    "Q2"
   ]
  },
  {
   "cell_type": "code",
   "execution_count": 6,
   "id": "54b22821-a18d-4fa0-80cf-1014842455a5",
   "metadata": {},
   "outputs": [],
   "source": [
    "def encrypt_message(message):\n",
    "    \n",
    "    message = message.lower()\n",
    "    encrypted_message = \"\"\n",
    "    \n",
    "    for char in message:\n",
    "        if char ==\"\":\n",
    "            encrypted_message += \"$\"\n",
    "        elif char.isalpha():\n",
    "            encrypted_message += chr(122-ord(char)+97)\n",
    "        else:\n",
    "            encrypted_message += char\n",
    "    return encrypted_message"
   ]
  },
  {
   "cell_type": "code",
   "execution_count": 7,
   "id": "239b29e5-4bd8-4fa1-8aa0-7c4d6d6739f6",
   "metadata": {},
   "outputs": [
    {
     "name": "stdout",
     "output_type": "stream",
     "text": [
      "Encrypted message : r dzmg gl yvxlnv wzgz hxrvmgrhg\n"
     ]
    }
   ],
   "source": [
    "sample_message = 'I want to become Data scientist'\n",
    "print(\"Encrypted message :\",encrypt_message(sample_message))"
   ]
  },
  {
   "cell_type": "code",
   "execution_count": null,
   "id": "df5f67d8-2b9d-4a6e-b52c-efb440ef0251",
   "metadata": {},
   "outputs": [],
   "source": []
  }
 ],
 "metadata": {
  "kernelspec": {
   "display_name": "Python 3 (ipykernel)",
   "language": "python",
   "name": "python3"
  },
  "language_info": {
   "codemirror_mode": {
    "name": "ipython",
    "version": 3
   },
   "file_extension": ".py",
   "mimetype": "text/x-python",
   "name": "python",
   "nbconvert_exporter": "python",
   "pygments_lexer": "ipython3",
   "version": "3.10.8"
  }
 },
 "nbformat": 4,
 "nbformat_minor": 5
}
